{
 "cells": [
  {
   "cell_type": "markdown",
   "metadata": {},
   "source": [
    "# Logistic Regression as a Single Neuran of a Neural Network\n",
    "\n",
    "Welcome to your first programming assignment! You will build a logistic regression classifier to recognize  cats. This assignment will step you through how to do this with a Neural Network mindset where logistic regression represents a single nueron. \n",
    "\n",
    "**Instructions:**\n",
    "- Do not use loops (for/while) in your code, unless the instructions explicitly ask you to do so.\n",
    "\n",
    "**You will learn to:**\n",
    "- Build the general architecture of a learning algorithm, including:\n",
    "    - Initializing parameters\n",
    "    - Calculating the cost function and its gradient\n",
    "    - Using an optimization algorithm (gradient descent) \n",
    "- Gather all three functions above into a main model function, in the right order."
   ]
  },
  {
   "cell_type": "markdown",
   "metadata": {},
   "source": [
    "## 1 -  Loading Packages ##\n",
    "First, let's run the cell below to import all the packages that you will need during this assignment. "
   ]
  },
  {
   "cell_type": "code",
   "execution_count": 1,
   "metadata": {},
   "outputs": [],
   "source": [
    "import numpy as np\n",
    "import matplotlib.pyplot as plt\n",
    "import h5py\n",
    "import scipy\n",
    "from PIL import Image\n",
    "from scipy import ndimage\n",
    "import glob\n",
    "from sklearn.model_selection import train_test_split\n",
    "\n",
    "%matplotlib inline"
   ]
  },
  {
   "cell_type": "markdown",
   "metadata": {},
   "source": [
    "## 2 - Utility functions to convert images into datasets ##\n",
    "The following functions are used to convert the cats and dogs images in the dataset folder into the numpy array format with labels. "
   ]
  },
  {
   "cell_type": "code",
   "execution_count": 2,
   "metadata": {},
   "outputs": [],
   "source": [
    "def convert_image_to_data(image, WIDTH, HEIGHT):\n",
    "    image_resized = Image.open(image).resize((WIDTH, HEIGHT))\n",
    "    image_array = np.array(image_resized).T\n",
    "    return image_array"
   ]
  },
  {
   "cell_type": "code",
   "execution_count": 3,
   "metadata": {},
   "outputs": [],
   "source": [
    "# def create_train_test_data(num_pix,test_size=0.2):\n",
    "#     cat_files = glob.glob(\"datasets/cat*\")\n",
    "#     dog_files = glob.glob(\"datasets/dog*\")\n",
    "\n",
    "#     # Restrict cat and dog files here for testing\n",
    "#     cat_list = [convert_image_to_data(i, num_pix, num_pix) for i in cat_files]\n",
    "#     dog_list = [convert_image_to_data(i, num_pix, num_pix) for i in dog_files]\n",
    "\n",
    "#     y_cat = np.zeros(len(cat_list))\n",
    "#     y_dog = np.ones(len(dog_list))\n",
    "\n",
    "#     X = np.concatenate([cat_list, dog_list])\n",
    "#     X = np.concatenate([cat_list, dog_list])\n",
    "#     y = np.concatenate([y_cat, y_dog])\n",
    "\n",
    "#     X_train, X_test, y_train, y_test = train_test_split(X, y, test_size=0.2, random_state=1, stratify=y)\n",
    "#     return X_train, X_test, y_train, y_test\n",
    "\n",
    "\n",
    "def load_dataset(database_path):\n",
    "    \n",
    "    dataset_db = h5py.File(database_path, \"r\")\n",
    "    \n",
    "    datasets = {}\n",
    "    for dataset in [\"train\", \"dev\", \"test\"]:\n",
    "        \n",
    "        datasets[dataset] = {\n",
    "                             'X': np.array(dataset_db[dataset + \"_img\"][:]),  # dataset features\n",
    "                             'Y': np.array(dataset_db[dataset + \"_labels\"][:]) # dataset labels\n",
    "                            }\n",
    "    return datasets"
   ]
  },
  {
   "cell_type": "markdown",
   "metadata": {},
   "source": [
    "### 2.1 - Load data set ###\n",
    "Use the utility functions provided above to load the train_set_x,train_set_y, test_set_x, test_set_y.\n",
    "Set the `num_pix` to 64 and keep the `test_size` as the default value."
   ]
  },
  {
   "cell_type": "code",
   "execution_count": 4,
   "metadata": {
    "scrolled": true
   },
   "outputs": [],
   "source": [
    "# set the num_pix to 64\n",
    " # num_pix = None\n",
    "\n",
    "num_pix = 64\n",
    "\n",
    "# load the train_set_x_orig, test_set_x_orig, train_set_y, test_set_y, dev_set_x and dev_set_y\n",
    "\n",
    "datasets = load_dataset('car_dataset.hdf5')\n",
    "\n",
    "train_set_x_orig = datasets['train']['X']\n",
    "train_set_y = datasets['train']['Y']\n",
    "\n",
    "# loading the x and y from dev_set\n",
    "dev_set_x_orig = datasets['dev']['X']\n",
    "dev_set_y = datasets['dev']['Y']\n",
    "\n",
    "# loading the x and y from the training_set\n",
    "test_set_x_orig = datasets['test']['X']\n",
    "test_set_y = datasets['test']['Y']\n"
   ]
  },
  {
   "cell_type": "markdown",
   "metadata": {},
   "source": [
    "#### 2.1.1 - Print the shapes ###\n",
    "Print the shape of the following variables\n",
    "- Number of training examples: m_train\n",
    "- Number of testing examples: m_test\n",
    "- Height/Width of each image: num_px\n",
    "- train_set_x shape\n",
    "- train_set_y shape\n",
    "- test_set_x shape\n",
    "- test_set_y shape"
   ]
  },
  {
   "cell_type": "code",
   "execution_count": 5,
   "metadata": {},
   "outputs": [
    {
     "name": "stdout",
     "output_type": "stream",
     "text": [
      "Training Data: 517\n",
      "Testing Data: 173\n",
      "Number of Pixels in Sqaure Image: 64\n",
      "Dimension of train_set_x_orig:  (517, 64, 64, 3)\n",
      "Dimension of train_set_y:  (517,)\n",
      "Dimension of dev_set_x_orig:  (172, 64, 64, 3)\n",
      "Dimension of dev_set_y_orig:  (172,)\n",
      "Dimension of test_set_x_orig:  (173, 64, 64, 3)\n",
      "Dimension of test_set_y:  (173,)\n"
     ]
    }
   ],
   "source": [
    "# your code here <begin>\n",
    "\n",
    "#Number of Training Examples:\n",
    "\n",
    "print('Training Data:', np.shape(train_set_x_orig)[0])\n",
    "print('Testing Data:', np.shape(test_set_x_orig)[0])\n",
    "print('Number of Pixels in Sqaure Image:', np.shape(train_set_x_orig)[1])\n",
    "\n",
    "print('Dimension of train_set_x_orig: ', np.shape(train_set_x_orig))\n",
    "print('Dimension of train_set_y: ', np.shape(train_set_y))\n",
    "print('Dimension of dev_set_x_orig: ', np.shape(dev_set_x_orig))\n",
    "print('Dimension of dev_set_y_orig: ', np.shape(dev_set_y))\n",
    "print('Dimension of test_set_x_orig: ', np.shape(test_set_x_orig))\n",
    "print('Dimension of test_set_y: ', np.shape(test_set_y))\n",
    "#your code here <end>"
   ]
  },
  {
   "cell_type": "markdown",
   "metadata": {},
   "source": [
    "#### 2.1.2 - Fixing ill-shape vectors ####\n",
    "It is possible that the train_set_y and test_set_y have an ill-shape. Fix these shapes so the train_set_y and test_set_y are represented as a matrix with size (1, number of examples)"
   ]
  },
  {
   "cell_type": "code",
   "execution_count": 6,
   "metadata": {},
   "outputs": [
    {
     "name": "stdout",
     "output_type": "stream",
     "text": [
      "train_set_y shape: (1, 517)\n",
      "dev_set_y shape: (1, 172)\n",
      "test_set_y shape: (1, 173)\n"
     ]
    }
   ],
   "source": [
    "# your code here <begin>\n",
    "train_set_y = np.reshape(train_set_y, (1, np.shape(train_set_x_orig)[0]))\n",
    "test_set_y = np.reshape(test_set_y, (1, np.shape(test_set_x_orig)[0]))\n",
    "dev_set_y = np.reshape(dev_set_y, (1, np.shape(dev_set_x_orig)[0]))\n",
    "# your code here <end>\n",
    "\n",
    "print (\"train_set_y shape: \" + str(train_set_y.shape))\n",
    "print(\"dev_set_y shape: \" + str(dev_set_y.shape))\n",
    "print (\"test_set_y shape: \" + str(test_set_y.shape))"
   ]
  },
  {
   "cell_type": "markdown",
   "metadata": {},
   "source": [
    "### 2.2 - Flatten the data\n",
    "Reshape the training and test data sets so that each image is flattened into single vectors of shape (num_px  ∗ num_px  ∗ 3, 1). Check the shapes for train_set_x_flatten and test_set_x_flatten."
   ]
  },
  {
   "cell_type": "code",
   "execution_count": 7,
   "metadata": {},
   "outputs": [
    {
     "name": "stdout",
     "output_type": "stream",
     "text": [
      "Before Flattening\n",
      "\n",
      "train_set_x_orig shape: (517, 64, 64, 3)\n",
      "test_set_x_orig shape: (173, 64, 64, 3)\n",
      "dev_set_x_orig shape: (172, 64, 64, 3)\n",
      "\n",
      "After Flattening\n",
      "\n",
      "train_set_x_flatten shape: (12288, 517)\n",
      "test_set_x_flatten shape: (12288, 173)\n",
      "dev_set_x_flatten shape: (12288, 172)\n"
     ]
    }
   ],
   "source": [
    "# your code here\n",
    "\n",
    "print(\"Before Flattening\\n\")\n",
    "print (\"train_set_x_orig shape: \" + str(train_set_x_orig.shape))\n",
    "print (\"test_set_x_orig shape: \" + str(test_set_x_orig.shape))\n",
    "print (\"dev_set_x_orig shape: \" + str(dev_set_x_orig.shape))\n",
    "\n",
    "\n",
    "print(\"\\nAfter Flattening\\n\")\n",
    "train_set_x_flatten = train_set_x_orig.reshape(train_set_x_orig.shape[0], -1).T\n",
    "test_set_x_flatten = test_set_x_orig.reshape(test_set_x_orig.shape[0], -1).T\n",
    "dev_set_x_flatten = dev_set_x_orig.reshape(dev_set_x_orig.shape[0], -1).T\n",
    "\n",
    "print (\"train_set_x_flatten shape: \" + str(train_set_x_flatten.shape))\n",
    "print (\"test_set_x_flatten shape: \" + str(test_set_x_flatten.shape))\n",
    "print (\"dev_set_x_flatten shape: \" + str(dev_set_x_flatten.shape))\n"
   ]
  },
  {
   "cell_type": "markdown",
   "metadata": {},
   "source": [
    "### 2.3 - Standardize the data\n",
    "Divide every row of the dataset by 255 "
   ]
  },
  {
   "cell_type": "code",
   "execution_count": 8,
   "metadata": {},
   "outputs": [
    {
     "name": "stdout",
     "output_type": "stream",
     "text": [
      "(12288, 517)\n",
      "(12288, 173)\n",
      "(12288, 172)\n"
     ]
    }
   ],
   "source": [
    "# your code here\n",
    "# your code here\n",
    "train_set_x = train_set_x_flatten / 255\n",
    "test_set_x = test_set_x_flatten / 255\n",
    "dev_set_x = dev_set_x_flatten / 255\n",
    "\n",
    "print(np.shape(train_set_x))\n",
    "print(np.shape(test_set_x))\n",
    "print(np.shape(dev_set_x))"
   ]
  },
  {
   "cell_type": "markdown",
   "metadata": {},
   "source": [
    "## 3 - Implementing the Helper Functions ## \n",
    "\n",
    "### 3.1 - Sigmoid function\n",
    "Implement `sigmoid()`. "
   ]
  },
  {
   "cell_type": "code",
   "execution_count": 9,
   "metadata": {},
   "outputs": [],
   "source": [
    "# your code here\n",
    "import math\n",
    "\n",
    "def sigmoid(x):\n",
    "    return 1 / (1 + np.exp(-x))\n",
    "\n",
    "#test\n",
    "#sigmoid(0.345)"
   ]
  },
  {
   "cell_type": "markdown",
   "metadata": {},
   "source": [
    "### 3.2 - Implement initialize_with_zeros\n",
    "Write a function that initializes initialize w as a vector of zeros and set `b` to zero. "
   ]
  },
  {
   "cell_type": "code",
   "execution_count": 10,
   "metadata": {},
   "outputs": [],
   "source": [
    "# your code here\n",
    "\n",
    "#Dimension of the Training Data\n",
    "# print(np.shape(train_set_x_flatten_std))\n",
    "\n",
    "def initialize_weights():\n",
    "    w = np.zeros((12288,1))\n",
    "    b = 0\n",
    "    #b = np.zeros((1,640))\n",
    "    return w,b\n"
   ]
  },
  {
   "cell_type": "markdown",
   "metadata": {},
   "source": [
    "### 3.3 - Forward propagation\n",
    "\n",
    "Implement forward propagation to calculate $A$ and cost.\n",
    "\n",
    "Forward Propagation:\n",
    "- You get X\n",
    "- You compute $A = \\sigma(w^T X + b) = (a^{(0)}, a^{(1)}, ..., a^{(m-1)}, a^{(m)})$\n",
    "- You calculate the cost function: $J = -\\frac{1}{m}\\sum_{i=1}^{m}y^{(i)}\\log(a^{(i)})+(1-y^{(i)})\\log(1-a^{(i)})$\n"
   ]
  },
  {
   "cell_type": "code",
   "execution_count": 11,
   "metadata": {},
   "outputs": [],
   "source": [
    "# your code here\n",
    "\n",
    "#Forward Propagation \n",
    "def forward_pass(X, Y, w, b):\n",
    "    \n",
    "    m = np.shape(X)[1]\n",
    "    \n",
    "    Z = np.dot(w.transpose(),X) + b\n",
    "    A = sigmoid(Z)\n",
    "    # np.shape(A)\n",
    "    # np.shape(Z)\n",
    "\n",
    "    J = Y*np.log(A) + (1-Y)*np.log(1-A)\n",
    "    J = -np.sum(J)/m\n",
    "    return A, J"
   ]
  },
  {
   "cell_type": "markdown",
   "metadata": {},
   "source": [
    "### 3.4 - Backward propagation\n",
    "\n",
    "Implement backward propagation to compute gradients $dw$ and $db$\n",
    "Here are the two formulas you will be using: \n",
    "\n",
    "$$ dw = \\frac{\\partial J}{\\partial w} = \\frac{1}{m}X(A-Y)^T\\tag{7}$$\n",
    "$$ db = \\frac{\\partial J}{\\partial b} = \\frac{1}{m} \\sum_{i=1}^m (a^{(i)}-y^{(i)})\\tag{8}$$"
   ]
  },
  {
   "cell_type": "code",
   "execution_count": 12,
   "metadata": {},
   "outputs": [],
   "source": [
    "# your code here\n",
    "def backprop(X, Y, A):\n",
    "    # X is train_set_x_flatten_std\n",
    "    # Y is train_set_y\n",
    "    # A is returned from forward_pass (the output activations)\n",
    "    # m is number of training examples\n",
    "    \n",
    "    m = np.shape(X)[1]\n",
    "\n",
    "    dZ = A - Y\n",
    "\n",
    "    dw = (1/m)*(np.matmul(X,dZ.transpose()))\n",
    "\n",
    "    db = (1/m)*np.sum(dZ)\n",
    "    \n",
    "    return dw,db"
   ]
  },
  {
   "cell_type": "markdown",
   "metadata": {},
   "source": [
    "### 3.5 - Optimization\n",
    "- You have initialized your parameters.\n",
    "- You are also able to compute a cost function and its gradient.\n",
    "- Now, you want to update the parameters using gradient descent.\n",
    "\n",
    "Write down the optimization function. The goal is to learn $w$ and $b$ by minimizing the cost function $J$. "
   ]
  },
  {
   "cell_type": "code",
   "execution_count": 13,
   "metadata": {},
   "outputs": [],
   "source": [
    "# your code here\n",
    "\n",
    "def optimize(alpha,w,b,dw,db):\n",
    "    #alpha - learning rate\n",
    "    #w - current weight\n",
    "    #b- current bias\n",
    "    #dw - weight change to be made\n",
    "    #db - bias change to be made\n",
    "    \n",
    "    w = w - alpha*dw\n",
    "    b = b - alpha*db\n",
    "\n",
    "    return w,b"
   ]
  },
  {
   "cell_type": "markdown",
   "metadata": {},
   "source": [
    "### 3.6 - Prediction\n",
    "\n",
    "Implement the `predict()` function. There is two steps to computing predictions:\n",
    "\n",
    "1. Calculate $\\hat{Y} = A = \\sigma(w^T X + b)$\n",
    "\n",
    "2. Convert the entries of a into 0 (if activation <= 0.5) or 1 (if activation > 0.5), stores the predictions in a vector `Y_prediction`. If you wish, you can use an `if`/`else` statement in a `for` loop (though there is also a way to vectorize this). "
   ]
  },
  {
   "cell_type": "code",
   "execution_count": 14,
   "metadata": {},
   "outputs": [],
   "source": [
    "# your code here\n",
    "def predict(X, w, b):\n",
    "    y_hat = sigmoid(np.dot(w.transpose(),X) + b)\n",
    "    \n",
    "    #Thresholding into 0 and 1 --- binary classification prediction\n",
    "    for c, i in enumerate(y_hat[0]):\n",
    "        if i > 0.5:\n",
    "            y_hat[0][c] = 1\n",
    "        else:\n",
    "            y_hat[0][c] = 0\n",
    "            \n",
    "    return y_hat"
   ]
  },
  {
   "cell_type": "markdown",
   "metadata": {},
   "source": [
    "## 4 - Regression Model ##\n",
    "Implement the model function. Use the following notation:\n",
    "    - Y_prediction for your predictions on the test set\n",
    "    - Y_prediction_train for your predictions on the train set\n",
    "    - w, costs, grads for the outputs of optimize()"
   ]
  },
  {
   "cell_type": "code",
   "execution_count": 15,
   "metadata": {},
   "outputs": [],
   "source": [
    "# your code here\n",
    "\n",
    "#Regression Model \n",
    "def model(num_iter, alpha, X_train, Y_train, X_test, Y_test,X_dev,Y_dev):\n",
    "    \n",
    "    #Initialize the weights/bias ---w is the weight vector, b is the bias value\n",
    "    w,b = initialize_weights()\n",
    "    \n",
    "    #Number of Training Examples:\n",
    "    m = np.shape(X_train)[1]\n",
    "    \n",
    "    #Cost Function with respect to number of iterations\n",
    "    #Store that Data\n",
    "    \n",
    "    Cost_Data = []\n",
    "    Weight_Gradient = []\n",
    "    Bias_Gradient = []\n",
    "    \n",
    "    for i in range(0,num_iter):\n",
    "            \n",
    "        #Run the forward pass----  A is the activations, J is the cost\n",
    "        A,J = forward_pass(X_train, Y_train, w,b)\n",
    "        \n",
    "        Cost_Data.append(J)\n",
    "        \n",
    "        if i%100 == 0:\n",
    "            print('Iteration {} Cost {}'.format(i, J))\n",
    "            \n",
    "            \n",
    "\n",
    "        #Error Backpropagation --- dw is the weight change, db is the bias change\n",
    "        dw,db = backprop(X_train, Y_train, A)\n",
    "\n",
    "        Weight_Gradient.append(dw)\n",
    "        Bias_Gradient.append(db)\n",
    "        \n",
    "        #Optimize --- w,b are the new weights, bias values\n",
    "        w,b = optimize(alpha,w,b,dw,db) \n",
    "       \n",
    "    \n",
    "    \n",
    "    \n",
    "    # For train and test accuracy\n",
    "    Y_prediction = predict(X_test, w, b)\n",
    "    \n",
    "    Y_prediction_train = predict(X_train, w, b)\n",
    "    \n",
    "    Y_prediction_dev = predict(X_dev,w,b)\n",
    "    \n",
    "    \n",
    "    # Print train/test Errors\n",
    "    print(\"train accuracy: {} %\".format(100 - np.mean(np.abs(Y_prediction_train - Y_train)) * 100))\n",
    "    print(\"test accuracy: {} %\".format(100 - np.mean(np.abs(Y_prediction - Y_test)) * 100))\n",
    "    print(\"validation accuracy: {} %\".format(100 - np.mean(np.abs(Y_prediction_dev - Y_dev)) * 100))\n",
    "        \n",
    "    \n",
    "    return Cost_Data, w,b, Weight_Gradient,Bias_Gradient\n",
    "\n",
    "    "
   ]
  },
  {
   "cell_type": "markdown",
   "metadata": {},
   "source": [
    "## 5. Run the regression model function to train your model.\n",
    "### 5.1 - Setting parameters (part 1)\n",
    "Set the `num_iterations` to 5000 and `learning_rate` to 0.0005"
   ]
  },
  {
   "cell_type": "code",
   "execution_count": 16,
   "metadata": {
    "scrolled": true
   },
   "outputs": [
    {
     "name": "stdout",
     "output_type": "stream",
     "text": [
      "Iteration 0 Cost 0.6931471805599453\n",
      "Iteration 100 Cost 0.5485087630796787\n",
      "Iteration 200 Cost 0.49629693318454876\n",
      "Iteration 300 Cost 0.4595362315493049\n",
      "Iteration 400 Cost 0.43224438707580903\n",
      "Iteration 500 Cost 0.41106581283396\n",
      "Iteration 600 Cost 0.394034121790612\n",
      "Iteration 700 Cost 0.3799397768476531\n",
      "Iteration 800 Cost 0.3680040700183103\n",
      "Iteration 900 Cost 0.35770483853842067\n",
      "Iteration 1000 Cost 0.34867924252155647\n",
      "Iteration 1100 Cost 0.3406672108354305\n",
      "Iteration 1200 Cost 0.33347723988088523\n",
      "Iteration 1300 Cost 0.3269649672995875\n",
      "Iteration 1400 Cost 0.321019315074798\n",
      "Iteration 1500 Cost 0.31555326781922244\n",
      "Iteration 1600 Cost 0.31049757565122726\n",
      "Iteration 1700 Cost 0.3057963531574119\n",
      "Iteration 1800 Cost 0.30140393837520163\n",
      "Iteration 1900 Cost 0.29728260816060365\n",
      "Iteration 2000 Cost 0.29340088768621786\n",
      "Iteration 2100 Cost 0.2897322799413797\n",
      "Iteration 2200 Cost 0.28625429729069635\n",
      "Iteration 2300 Cost 0.28294771372033956\n",
      "Iteration 2400 Cost 0.2797959806718442\n",
      "Iteration 2500 Cost 0.27678476575992444\n",
      "Iteration 2600 Cost 0.2739015849340066\n",
      "Iteration 2700 Cost 0.27113550650077195\n",
      "Iteration 2800 Cost 0.2684769109864578\n",
      "Iteration 2900 Cost 0.26591729480734655\n",
      "Iteration 3000 Cost 0.26344910861523213\n",
      "Iteration 3100 Cost 0.2610656233150983\n",
      "Iteration 3200 Cost 0.25876081833554365\n",
      "Iteration 3300 Cost 0.2565292879212972\n",
      "Iteration 3400 Cost 0.2543661621184194\n",
      "Iteration 3500 Cost 0.25226703981220006\n",
      "Iteration 3600 Cost 0.2502279317096041\n",
      "Iteration 3700 Cost 0.24824521157165866\n",
      "Iteration 3800 Cost 0.24631557432512086\n",
      "Iteration 3900 Cost 0.24443599993831286\n",
      "Iteration 4000 Cost 0.2426037221489094\n",
      "Iteration 4100 Cost 0.24081620129358522\n",
      "Iteration 4200 Cost 0.23907110061969672\n",
      "Iteration 4300 Cost 0.2373662655644463\n",
      "Iteration 4400 Cost 0.23569970557248202\n",
      "Iteration 4500 Cost 0.23406957809268208\n",
      "Iteration 4600 Cost 0.2324741744521137\n",
      "Iteration 4700 Cost 0.23091190735231043\n",
      "Iteration 4800 Cost 0.22938129977201657\n",
      "Iteration 4900 Cost 0.2278809750929475\n",
      "train accuracy: 92.06963249516441 %\n",
      "test accuracy: 87.28323699421965 %\n",
      "validation accuracy: 92.44186046511628 %\n"
     ]
    }
   ],
   "source": [
    "# your code here\n",
    "\n",
    "Cost_Data,w ,b,Weight_Gradient,Bias_Gradient = model(5000,0.0005,train_set_x,train_set_y,test_set_x,test_set_y,dev_set_x,dev_set_y)\n",
    "\n",
    "# model(5000,0.0005,train_set_x_flatten_std,train_set_y,test_set_x_flatten,test_set_y)"
   ]
  },
  {
   "cell_type": "markdown",
   "metadata": {},
   "source": [
    "**Expected Output**: \n",
    "\n",
    "<table style=\"width:40%\"> \n",
    "    \n",
    "    <tr>\n",
    "        <td> **Train Accuracy**  </td> \n",
    "        <td> 91.25 % </td>\n",
    "    </tr>\n",
    "\n",
    "    <tr>\n",
    "        <td>**Test Accuracy** </td> \n",
    "        <td> 60.0 % </td>\n",
    "    </tr>\n",
    "</table> \n",
    "\n",
    "\n"
   ]
  },
  {
   "cell_type": "markdown",
   "metadata": {},
   "source": [
    "Let's also plot the cost function and the gradients."
   ]
  },
  {
   "cell_type": "code",
   "execution_count": 17,
   "metadata": {
    "scrolled": true
   },
   "outputs": [
    {
     "data": {
      "text/plain": [
       "Text(0.5, 1.0, 'Cost vs No. of Iterations')"
      ]
     },
     "execution_count": 17,
     "metadata": {},
     "output_type": "execute_result"
    },
    {
     "data": {
      "image/png": "[encoded data removed]",
      "text/plain": [
       "<Figure size 432x288 with 1 Axes>"
      ]
     },
     "metadata": {
      "needs_background": "light"
     },
     "output_type": "display_data"
    }
   ],
   "source": [
    "# Plot learning curve (with costs) for part 1\n",
    "\n",
    "# Plot learning curve (with costs) for part 2\n",
    "x_axis = [i for i in range(0,5000) if i%100 ==0]\n",
    "y_axis = [Cost_Data[i] for i in range(0, 5000) if i%100 ==0]\n",
    "plt.plot(x_axis, y_axis)\n",
    "plt.xlabel('No. of Iterations:')\n",
    "plt.ylabel('Cost Data:')\n",
    "plt.title('Cost vs No. of Iterations')"
   ]
  },
  {
   "cell_type": "markdown",
   "metadata": {},
   "source": [
    "### 5.1 - Setting parameters (part 2)\n",
    "Set the `num_iterations` to 2000 and `learning_rate` to 0.005 and run the model again. Plot the cost function."
   ]
  },
  {
   "cell_type": "code",
   "execution_count": 18,
   "metadata": {},
   "outputs": [
    {
     "name": "stdout",
     "output_type": "stream",
     "text": [
      "Iteration 0 Cost 0.6931471805599453\n",
      "Iteration 100 Cost 0.34832503598373044\n",
      "Iteration 200 Cost 0.29323468328455565\n",
      "Iteration 300 Cost 0.2633464913452111\n",
      "Iteration 400 Cost 0.24253059943103009\n",
      "Iteration 500 Cost 0.22635286068300065\n",
      "Iteration 600 Cost 0.21301379372361937\n",
      "Iteration 700 Cost 0.20161395404816623\n",
      "Iteration 800 Cost 0.1916401352231467\n",
      "Iteration 900 Cost 0.1827710242724725\n",
      "Iteration 1000 Cost 0.1747909067232438\n",
      "Iteration 1100 Cost 0.1675467811287168\n",
      "Iteration 1200 Cost 0.16092519587059356\n",
      "Iteration 1300 Cost 0.15483890800007094\n",
      "Iteration 1400 Cost 0.14921879443083969\n",
      "Iteration 1500 Cost 0.14400873568826805\n",
      "Iteration 1600 Cost 0.13916226075501759\n",
      "Iteration 1700 Cost 0.13464027463236447\n",
      "Iteration 1800 Cost 0.13040947191888988\n",
      "Iteration 1900 Cost 0.1264411962537478\n",
      "train accuracy: 97.48549323017409 %\n",
      "test accuracy: 89.59537572254335 %\n",
      "validation accuracy: 91.86046511627907 %\n"
     ]
    }
   ],
   "source": [
    "# your code here\n",
    "\n",
    "Cost_Data1,w1 ,b1,Weight_Gradient1,Bias_Gradient1 = model(2000,0.005,train_set_x,train_set_y,test_set_x,test_set_y,dev_set_x,dev_set_y)\n"
   ]
  },
  {
   "cell_type": "code",
   "execution_count": 19,
   "metadata": {},
   "outputs": [
    {
     "data": {
      "text/plain": [
       "Text(0.5, 1.0, 'Cost vs No. of Iterations')"
      ]
     },
     "execution_count": 19,
     "metadata": {},
     "output_type": "execute_result"
    },
    {
     "data": {
      "image/png": "[encoded data removed]",
      "text/plain": [
       "<Figure size 432x288 with 1 Axes>"
      ]
     },
     "metadata": {
      "needs_background": "light"
     },
     "output_type": "display_data"
    }
   ],
   "source": [
    "# Plot learning curve (with costs) for part 2\n",
    "x_axis = [i for i in range(0,2000) if i%100 ==0]\n",
    "y_axis = [Cost_Data1[i] for i in range(0,2000) if i%100 ==0]\n",
    "plt.plot(x_axis, y_axis)\n",
    "plt.xlabel('No. of Iterations:')\n",
    "plt.ylabel('Cost Data:')\n",
    "plt.title('Cost vs No. of Iterations')"
   ]
  },
  {
   "cell_type": "markdown",
   "metadata": {},
   "source": [
    "### 5.3 - Analysis\n",
    "Compare the cost function plots of part_1 and part_2. Write your observation below."
   ]
  },
  {
   "cell_type": "markdown",
   "metadata": {},
   "source": [
    "#### Write Your observation here\n",
    "......"
   ]
  },
  {
   "cell_type": "code",
   "execution_count": 20,
   "metadata": {},
   "outputs": [],
   "source": [
    "\n",
    "\n",
    "# ##----------------------------Part 1 --------------------------------------\n",
    "# Learning Rate: 0.0005\n",
    "# Number of Epochs: 5000\n",
    "\n",
    "# train accuracy: 92.06963249516441 %\n",
    "# test accuracy: 87.28323699421965 %\n",
    "# validation accuracy: 92.44186046511628 %\n",
    "    \n",
    "# Result: Smooth Cost Function Observed, as the number of iterations increases, the cost is converging towards \n",
    "# a minima. \n",
    "\n",
    "# ##---------------------------Part 2----------------------------------------\n",
    "# Learning Rate: 0.005 (10x Increase!)\n",
    "# Number of Epochs: 2000 (60% Decrease in Epoch Time)\n",
    "\n",
    "# train accuracy: 97.48549323017409 %\n",
    "# test accuracy: 89.59537572254335 %\n",
    "# validation accuracy: 91.86046511627907 %\n",
    "\n",
    "    \n",
    "# Result: Cost function shows steep decrease at first, then slowly converges down towards a minima. \n",
    "    \n",
    "# Summary: As we can observe, a smaller learning rate gives a smoother loss function, with weight updates having lesser\n",
    "# magnitude, but might take more time to converge. However, if the learning rate is increased over a specific amount, \n",
    "# it shows undesirable divergent behavior. Therefore, an optimal learning rate between the two which maximises speed\n",
    "# and stability is desired. Here, the spped is good for the first run as you can see a steep decrease in the cost for the\n",
    "# first few iterations\n",
    "\n",
    "\n",
    "#MANOHAR ANUMOLU UID 115733039\n",
    "# #---------------------------------------------------------------------------"
   ]
  }
 ],
 "metadata": {
  "coursera": {
   "course_slug": "neural-networks-deep-learning",
   "graded_item_id": "XaIWT",
   "launcher_item_id": "zAgPl"
  },
  "kernelspec": {
   "display_name": "Python 3",
   "language": "python",
   "name": "python3"
  },
  "language_info": {
   "codemirror_mode": {
    "name": "ipython",
    "version": 3
   },
   "file_extension": ".py",
   "mimetype": "text/x-python",
   "name": "python",
   "nbconvert_exporter": "python",
   "pygments_lexer": "ipython3",
   "version": "3.7.1"
  },
  "widgets": {
   "state": {},
   "version": "1.1.2"
  }
 },
 "nbformat": 4,
 "nbformat_minor": 2
}
