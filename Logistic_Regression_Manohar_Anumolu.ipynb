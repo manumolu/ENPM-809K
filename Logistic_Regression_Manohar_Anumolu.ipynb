{
 "cells": [
  {
   "cell_type": "markdown",
   "metadata": {},
   "source": [
    "# Logistic Regression as a Single Neuran of a Neural Network\n",
    "\n",
    "Welcome to your first programming assignment! You will build a logistic regression classifier to recognize  cats. This assignment will step you through how to do this with a Neural Network mindset where logistic regression represents a single nueron. \n",
    "\n",
    "**Instructions:**\n",
    "- Do not use loops (for/while) in your code, unless the instructions explicitly ask you to do so.\n",
    "\n",
    "**You will learn to:**\n",
    "- Build the general architecture of a learning algorithm, including:\n",
    "    - Initializing parameters\n",
    "    - Calculating the cost function and its gradient\n",
    "    - Using an optimization algorithm (gradient descent) \n",
    "- Gather all three functions above into a main model function, in the right order."
   ]
  },
  {
   "cell_type": "markdown",
   "metadata": {},
   "source": [
    "## 1 -  Loading Packages ##\n",
    "First, let's run the cell below to import all the packages that you will need during this assignment. "
   ]
  },
  {
   "cell_type": "code",
   "execution_count": 1,
   "metadata": {},
   "outputs": [],
   "source": [
    "import numpy as np\n",
    "import matplotlib.pyplot as plt\n",
    "import h5py\n",
    "import scipy\n",
    "from PIL import Image\n",
    "from scipy import ndimage\n",
    "import glob\n",
    "from sklearn.model_selection import train_test_split\n",
    "\n",
    "%matplotlib inline"
   ]
  },
  {
   "cell_type": "markdown",
   "metadata": {},
   "source": [
    "## 2 - Utility functions to convert images into datasets ##\n",
    "The following functions are used to convert the cats and dogs images in the dataset folder into the numpy array format with labels. "
   ]
  },
  {
   "cell_type": "code",
   "execution_count": 2,
   "metadata": {},
   "outputs": [],
   "source": [
    "def convert_image_to_data(image, WIDTH, HEIGHT):\n",
    "    image_resized = Image.open(image).resize((WIDTH, HEIGHT))\n",
    "    image_array = np.array(image_resized).T\n",
    "    return image_array"
   ]
  },
  {
   "cell_type": "code",
   "execution_count": 3,
   "metadata": {},
   "outputs": [],
   "source": [
    "def create_train_test_data(num_pix,test_size=0.2):\n",
    "    cat_files = glob.glob(\"datasets/cat*\")\n",
    "    dog_files = glob.glob(\"datasets/dog*\")\n",
    "\n",
    "    # Restrict cat and dog files here for testing\n",
    "    cat_list = [convert_image_to_data(i, num_pix, num_pix) for i in cat_files]\n",
    "    dog_list = [convert_image_to_data(i, num_pix, num_pix) for i in dog_files]\n",
    "\n",
    "    y_cat = np.zeros(len(cat_list))\n",
    "    y_dog = np.ones(len(dog_list))\n",
    "\n",
    "    X = np.concatenate([cat_list, dog_list])\n",
    "    X = np.concatenate([cat_list, dog_list])\n",
    "    y = np.concatenate([y_cat, y_dog])\n",
    "\n",
    "    X_train, X_test, y_train, y_test = train_test_split(X, y, test_size=0.2, random_state=1, stratify=y)\n",
    "    return X_train, X_test, y_train, y_test"
   ]
  },
  {
   "cell_type": "markdown",
   "metadata": {},
   "source": [
    "### 2.1 - Load data set ###\n",
    "Use the utility functions provided above to load the train_set_x,train_set_y, test_set_x, test_set_y.\n",
    "Set the `num_pix` to 64 and keep the `test_size` as the default value."
   ]
  },
  {
   "cell_type": "code",
   "execution_count": 4,
   "metadata": {
    "scrolled": true
   },
   "outputs": [],
   "source": [
    "# set the num_pix to 64\n",
    " # num_pix = None\n",
    "\n",
    "num_pix = 64\n",
    "\n",
    "# load the train_set_x_orig, test_set_x_orig, train_set_y, test_set_y\n",
    "\n",
    "train_set_x, test_set_x, train_set_y, test_set_y = create_train_test_data(num_pix,test_size = 0.2)\n"
   ]
  },
  {
   "cell_type": "markdown",
   "metadata": {},
   "source": [
    "#### 2.1.1 - Print the shapes ###\n",
    "Print the shape of the following variables\n",
    "- Number of training examples: m_train\n",
    "- Number of testing examples: m_test\n",
    "- Height/Width of each image: num_px\n",
    "- train_set_x shape\n",
    "- train_set_y shape\n",
    "- test_set_x shape\n",
    "- test_set_y shape"
   ]
  },
  {
   "cell_type": "code",
   "execution_count": 5,
   "metadata": {},
   "outputs": [
    {
     "name": "stdout",
     "output_type": "stream",
     "text": [
      "Number of training examples:\n",
      "640\n",
      "\n",
      "Number of test examples:\n",
      "160\n",
      "\n",
      "Height/Width of Each Image is :\n",
      "64\n",
      "\n",
      "train_set_x shape:\n",
      "(640, 3, 64, 64)\n",
      "\n",
      "train_set_y shape:\n",
      "(640,)\n",
      "\n",
      "test_set_x shape: \n",
      "(160, 3, 64, 64)\n",
      "\n",
      "test_set_y shape:\n",
      "(160,)\n"
     ]
    }
   ],
   "source": [
    "# your code here <begin>\n",
    "\n",
    "#Number of Training Examples:\n",
    "\n",
    "m_train = np.shape(train_set_x)[0]\n",
    "print(\"Number of training examples:\")\n",
    "print(m_train)\n",
    "\n",
    "#Number of Testing Exampes:\n",
    "print(\"\\nNumber of test examples:\")\n",
    "m_test = np.shape(test_set_x)[0]\n",
    "print(m_test)\n",
    "\n",
    "#Height/Width of each image\n",
    "print(\"\\nHeight/Width of Each Image is :\")\n",
    "print(num_pix)\n",
    "\n",
    "#Shape of train_set_x\n",
    "\n",
    "print(\"\\ntrain_set_x shape:\")\n",
    "print(np.shape(train_set_x))\n",
    "\n",
    "#Shape of train_set_y\n",
    "\n",
    "print(\"\\ntrain_set_y shape:\")\n",
    "print(np.shape(train_set_y))\n",
    "\n",
    "#Shape of test_set_x\n",
    "\n",
    "print(\"\\ntest_set_x shape: \")\n",
    "print(np.shape(test_set_x))\n",
    "\n",
    "#Shape of test_set_y\n",
    "\n",
    "print(\"\\ntest_set_y shape:\")\n",
    "print(np.shape(test_set_y))\n",
    "\n",
    "#your code here <end>"
   ]
  },
  {
   "cell_type": "code",
   "execution_count": 6,
   "metadata": {},
   "outputs": [],
   "source": [
    "# print(train_set_y)\n",
    "# print(np.shape(train_set_y))"
   ]
  },
  {
   "cell_type": "markdown",
   "metadata": {},
   "source": [
    "#### 2.1.2 - Fixing ill-shape vectors ####\n",
    "It is possible that the train_set_y and test_set_y have an ill-shape. Fix these shapes so the train_set_y and test_set_y are represented as a matrix with size (1, number of examples)"
   ]
  },
  {
   "cell_type": "code",
   "execution_count": 7,
   "metadata": {},
   "outputs": [
    {
     "name": "stdout",
     "output_type": "stream",
     "text": [
      "train_set_y shape: (1, 640)\n",
      "test_set_y shape: (1, 160)\n"
     ]
    }
   ],
   "source": [
    "# your code here <begin>                -------------need to verify this bit\n",
    "train_set_y = np.reshape(train_set_y, (1,640))\n",
    "test_set_y = np.reshape(test_set_y, (1,160))\n",
    "# your code here <end>\n",
    "\n",
    "print (\"train_set_y shape: \" + str(train_set_y.shape))\n",
    "print (\"test_set_y shape: \" + str(test_set_y.shape))"
   ]
  },
  {
   "cell_type": "code",
   "execution_count": 8,
   "metadata": {},
   "outputs": [],
   "source": [
    "# print(train_set_y)\n",
    "# print(np.shape(train_set_y))\n",
    "# type(train_set_y)"
   ]
  },
  {
   "cell_type": "markdown",
   "metadata": {},
   "source": [
    "### 2.2 - Flatten the data\n",
    "Reshape the training and test data sets so that each image is flattened into single vectors of shape (num_px  ∗ num_px  ∗ 3, 1). Check the shapes for train_set_x_flatten and test_set_x_flatten."
   ]
  },
  {
   "cell_type": "code",
   "execution_count": 9,
   "metadata": {},
   "outputs": [],
   "source": [
    "# train_set_x"
   ]
  },
  {
   "cell_type": "code",
   "execution_count": 10,
   "metadata": {},
   "outputs": [
    {
     "name": "stdout",
     "output_type": "stream",
     "text": [
      "Before Flattening\n",
      "\n",
      "train_set_x shape: (640, 3, 64, 64)\n",
      "test_set_x shape: (160, 3, 64, 64)\n",
      "\n",
      "After Flattening\n",
      "\n",
      "train_set_x shape: (12288, 640)\n",
      "test_set_x shape: (12288, 160)\n"
     ]
    }
   ],
   "source": [
    "# your code here\n",
    "train_set_x_flatten = train_set_x.flatten().reshape(640,64*64*3).transpose()\n",
    "test_set_x_flatten = test_set_x.flatten().reshape(160,64*64*3).transpose()\n",
    "\n",
    "\n",
    "print(\"Before Flattening\\n\")\n",
    "print (\"train_set_x shape: \" + str(train_set_x.shape))\n",
    "print (\"test_set_x shape: \" + str(test_set_x.shape))\n",
    "\n",
    "\n",
    "print(\"\\nAfter Flattening\\n\")\n",
    "print (\"train_set_x shape: \" + str(train_set_x_flatten.shape))\n",
    "print (\"test_set_x shape: \" + str(test_set_x_flatten.shape))\n"
   ]
  },
  {
   "cell_type": "markdown",
   "metadata": {},
   "source": [
    "### 2.3 - Standardize the data\n",
    "Divide every row of the dataset by 255 "
   ]
  },
  {
   "cell_type": "code",
   "execution_count": 11,
   "metadata": {},
   "outputs": [],
   "source": [
    "# your code here\n",
    "\n",
    "# print(train_set_x_flatten)\n",
    "\n",
    "train_set_x_flatten_std = train_set_x_flatten/255\n",
    "# print(train_set_x_flatten_std)\n",
    "# print(np.shape(train_set_x_flatten_std))\n",
    "\n",
    "test_set_x_flatten_std = test_set_x_flatten/255\n",
    "# print(test_set_x_flatten_std)\n",
    "# print(np.shape(test_set_x_flatten_std))"
   ]
  },
  {
   "cell_type": "markdown",
   "metadata": {},
   "source": [
    "## 3 - Implementing the Helper Functions ## \n",
    "\n",
    "### 3.1 - Sigmoid function\n",
    "Implement `sigmoid()`. "
   ]
  },
  {
   "cell_type": "code",
   "execution_count": 12,
   "metadata": {},
   "outputs": [],
   "source": [
    "# your code here\n",
    "import math\n",
    "\n",
    "def sigmoid(x):\n",
    "    return 1 / (1 + np.exp(-x))\n",
    "\n",
    "#test\n",
    "#sigmoid(0.345)"
   ]
  },
  {
   "cell_type": "markdown",
   "metadata": {},
   "source": [
    "### 3.2 - Implement initialize_with_zeros\n",
    "Write a function that initializes initialize w as a vector of zeros and set `b` to zero. "
   ]
  },
  {
   "cell_type": "code",
   "execution_count": 13,
   "metadata": {},
   "outputs": [],
   "source": [
    "# your code here\n",
    "\n",
    "#Dimension of the Training Data\n",
    "# print(np.shape(train_set_x_flatten_std))\n",
    "\n",
    "def initialize_weights():\n",
    "    w = np.zeros((12288,1))\n",
    "    b = 0\n",
    "    #b = np.zeros((1,640))\n",
    "    return w,b\n"
   ]
  },
  {
   "cell_type": "markdown",
   "metadata": {},
   "source": [
    "### 3.3 - Forward propagation\n",
    "\n",
    "Implement forward propagation to calculate $A$ and cost.\n",
    "\n",
    "Forward Propagation:\n",
    "- You get X\n",
    "- You compute $A = \\sigma(w^T X + b) = (a^{(0)}, a^{(1)}, ..., a^{(m-1)}, a^{(m)})$\n",
    "- You calculate the cost function: $J = -\\frac{1}{m}\\sum_{i=1}^{m}y^{(i)}\\log(a^{(i)})+(1-y^{(i)})\\log(1-a^{(i)})$\n"
   ]
  },
  {
   "cell_type": "code",
   "execution_count": 14,
   "metadata": {},
   "outputs": [],
   "source": [
    "# your code here\n",
    "\n",
    "#Forward Propagation \n",
    "def forward_pass(X, Y, w, b):\n",
    "    \n",
    "    m = np.shape(X)[1]\n",
    "    \n",
    "    Z = np.dot(w.transpose(),X) + b\n",
    "    A = sigmoid(Z)\n",
    "    # np.shape(A)\n",
    "    # np.shape(Z)\n",
    "\n",
    "    J = Y*np.log(A) + (1-Y)*np.log(1-A)\n",
    "    J = -np.sum(J)/m\n",
    "    return A, J"
   ]
  },
  {
   "cell_type": "markdown",
   "metadata": {},
   "source": [
    "### 3.4 - Backward propagation\n",
    "\n",
    "Implement backward propagation to compute gradients $dw$ and $db$\n",
    "Here are the two formulas you will be using: \n",
    "\n",
    "$$ dw = \\frac{\\partial J}{\\partial w} = \\frac{1}{m}X(A-Y)^T\\tag{7}$$\n",
    "$$ db = \\frac{\\partial J}{\\partial b} = \\frac{1}{m} \\sum_{i=1}^m (a^{(i)}-y^{(i)})\\tag{8}$$"
   ]
  },
  {
   "cell_type": "code",
   "execution_count": 15,
   "metadata": {},
   "outputs": [],
   "source": [
    "# your code here\n",
    "def backprop(X, Y, A):\n",
    "    # X is train_set_x_flatten_std\n",
    "    # Y is train_set_y\n",
    "    # A is returned from forward_pass (the output activations)\n",
    "    # m is number of training examples\n",
    "    \n",
    "    m = np.shape(X)[1]\n",
    "\n",
    "    dZ = A - Y\n",
    "\n",
    "    dw = (1/m)*(np.matmul(X,dZ.transpose()))\n",
    "\n",
    "    db = (1/m)*np.sum(dZ)\n",
    "    \n",
    "    return dw,db"
   ]
  },
  {
   "cell_type": "markdown",
   "metadata": {},
   "source": [
    "### 3.5 - Optimization\n",
    "- You have initialized your parameters.\n",
    "- You are also able to compute a cost function and its gradient.\n",
    "- Now, you want to update the parameters using gradient descent.\n",
    "\n",
    "Write down the optimization function. The goal is to learn $w$ and $b$ by minimizing the cost function $J$. "
   ]
  },
  {
   "cell_type": "code",
   "execution_count": 16,
   "metadata": {},
   "outputs": [],
   "source": [
    "# your code here\n",
    "\n",
    "def optimize(alpha,w,b,dw,db):\n",
    "    #alpha - learning rate\n",
    "    #w - current weight\n",
    "    #b- current bias\n",
    "    #dw - weight change to be made\n",
    "    #db - bias change to be made\n",
    "    \n",
    "    w = w - alpha*dw\n",
    "    b = b - alpha*db\n",
    "\n",
    "    return w,b"
   ]
  },
  {
   "cell_type": "markdown",
   "metadata": {},
   "source": [
    "### 3.6 - Prediction\n",
    "\n",
    "Implement the `predict()` function. There is two steps to computing predictions:\n",
    "\n",
    "1. Calculate $\\hat{Y} = A = \\sigma(w^T X + b)$\n",
    "\n",
    "2. Convert the entries of a into 0 (if activation <= 0.5) or 1 (if activation > 0.5), stores the predictions in a vector `Y_prediction`. If you wish, you can use an `if`/`else` statement in a `for` loop (though there is also a way to vectorize this). "
   ]
  },
  {
   "cell_type": "code",
   "execution_count": 17,
   "metadata": {},
   "outputs": [],
   "source": [
    "# your code here\n",
    "def predict(X, w, b):\n",
    "    y_hat = sigmoid(np.dot(w.transpose(),X) + b)\n",
    "    \n",
    "    #Thresholding into 0 and 1 --- binary classification prediction\n",
    "    for c, i in enumerate(y_hat[0]):\n",
    "        if i > 0.5:\n",
    "            y_hat[0][c] = 1\n",
    "        else:\n",
    "            y_hat[0][c] = 0\n",
    "            \n",
    "    return y_hat"
   ]
  },
  {
   "cell_type": "markdown",
   "metadata": {},
   "source": [
    "## 4 - Regression Model ##\n",
    "Implement the model function. Use the following notation:\n",
    "    - Y_prediction for your predictions on the test set\n",
    "    - Y_prediction_train for your predictions on the train set\n",
    "    - w, costs, grads for the outputs of optimize()"
   ]
  },
  {
   "cell_type": "code",
   "execution_count": 18,
   "metadata": {},
   "outputs": [],
   "source": [
    "# your code here\n",
    "\n",
    "\n",
    "#Regression Model \n",
    "def model(num_iter, alpha, X_train, Y_train, X_test, Y_test):\n",
    "    \n",
    "    #Initialize the weights/bias ---w is the weight vector, b is the bias value\n",
    "    w,b = initialize_weights()\n",
    "    \n",
    "    #Number of Training Examples:\n",
    "    m = np.shape(X_train)[1]\n",
    "    \n",
    "    #Cost Function with respect to number of iterations\n",
    "    #Store that Data\n",
    "    \n",
    "    Cost_Data = []\n",
    "    Weight_Gradient = []\n",
    "    Bias_Gradient = []\n",
    "    \n",
    "    for i in range(0,num_iter):\n",
    "            \n",
    "        #Run the forward pass----  A is the activations, J is the cost\n",
    "        A,J = forward_pass(X_train, Y_train, w,b)\n",
    "        \n",
    "        Cost_Data.append(J)\n",
    "        \n",
    "        if i%100 == 0:\n",
    "            print('Iteration {} Cost {}'.format(i, J))\n",
    "            \n",
    "            \n",
    "\n",
    "        #Error Backpropagation --- dw is the weight change, db is the bias change\n",
    "        dw,db = backprop(X_train, Y_train, A)\n",
    "\n",
    "        Weight_Gradient.append(dw)\n",
    "        Bias_Gradient.append(db)\n",
    "        \n",
    "        #Optimize --- w,b are the new weights, bias values\n",
    "        w,b = optimize(alpha,w,b,dw,db) \n",
    "       \n",
    "    \n",
    "    \n",
    "    \n",
    "    # For train and test accuracy\n",
    "    Y_prediction = predict(X_test, w, b)\n",
    "    \n",
    "    Y_prediction_train = predict(X_train, w, b)\n",
    "    \n",
    "    \n",
    "    # Print train/test Errors\n",
    "    print(\"train accuracy: {} %\".format(100 - np.mean(np.abs(Y_prediction_train - Y_train)) * 100))\n",
    "    print(\"test accuracy: {} %\".format(100 - np.mean(np.abs(Y_prediction - Y_test)) * 100))\n",
    "        \n",
    "    \n",
    "    return Cost_Data, w,b, Weight_Gradient,Bias_Gradient\n",
    "\n",
    "    "
   ]
  },
  {
   "cell_type": "markdown",
   "metadata": {},
   "source": [
    "## 5. Run the regression model function to train your model.\n",
    "### 5.1 - Setting parameters (part 1)\n",
    "Set the `num_iterations` to 5000 and `learning_rate` to 0.0005"
   ]
  },
  {
   "cell_type": "code",
   "execution_count": 19,
   "metadata": {
    "scrolled": true
   },
   "outputs": [
    {
     "name": "stdout",
     "output_type": "stream",
     "text": [
      "Iteration 0 Cost 0.6931471805599453\n",
      "Iteration 100 Cost 0.6528032336104109\n",
      "Iteration 200 Cost 0.6426024880879245\n",
      "Iteration 300 Cost 0.6337974224943872\n",
      "Iteration 400 Cost 0.625975040303305\n",
      "Iteration 500 Cost 0.6188924280284445\n",
      "Iteration 600 Cost 0.612392730989925\n",
      "Iteration 700 Cost 0.6063678659145728\n",
      "Iteration 800 Cost 0.6007395718947468\n",
      "Iteration 900 Cost 0.595448884326657\n",
      "Iteration 1000 Cost 0.590449923015139\n",
      "Iteration 1100 Cost 0.5857060500634999\n",
      "Iteration 1200 Cost 0.5811873936375455\n",
      "Iteration 1300 Cost 0.5768691898102178\n",
      "Iteration 1400 Cost 0.5727306318184503\n",
      "Iteration 1500 Cost 0.5687540448963416\n",
      "Iteration 1600 Cost 0.5649242770795645\n",
      "Iteration 1700 Cost 0.5612282379502809\n",
      "Iteration 1800 Cost 0.5576545418234646\n",
      "Iteration 1900 Cost 0.5541932267194426\n",
      "Iteration 2000 Cost 0.5508355296858496\n",
      "Iteration 2100 Cost 0.547573704912298\n",
      "Iteration 2200 Cost 0.5444008749348115\n",
      "Iteration 2300 Cost 0.5413109078213869\n",
      "Iteration 2400 Cost 0.5382983150222459\n",
      "Iteration 2500 Cost 0.5353581658367924\n",
      "Iteration 2600 Cost 0.5324860153672824\n",
      "Iteration 2700 Cost 0.5296778435069163\n",
      "Iteration 2800 Cost 0.5269300030193104\n",
      "Iteration 2900 Cost 0.5242391751548732\n",
      "Iteration 3000 Cost 0.5216023315500737\n",
      "Iteration 3100 Cost 0.5190167013906108\n",
      "Iteration 3200 Cost 0.5164797430051564\n",
      "Iteration 3300 Cost 0.5139891192042817\n",
      "Iteration 3400 Cost 0.5115426757979413\n",
      "Iteration 3500 Cost 0.5091384228208694\n",
      "Iteration 3600 Cost 0.5067745180732623\n",
      "Iteration 3700 Cost 0.5044492526478775\n",
      "Iteration 3800 Cost 0.5021610381670341\n",
      "Iteration 3900 Cost 0.49990839549617955\n",
      "Iteration 4000 Cost 0.49768994473643857\n",
      "Iteration 4100 Cost 0.4955043963282882\n",
      "Iteration 4200 Cost 0.4933505431233014\n",
      "Iteration 4300 Cost 0.4912272533016607\n",
      "Iteration 4400 Cost 0.4891334640305788\n",
      "Iteration 4500 Cost 0.48706817577345374\n",
      "Iteration 4600 Cost 0.48503044717200616\n",
      "Iteration 4700 Cost 0.4830193904341596\n",
      "Iteration 4800 Cost 0.48103416716938\n",
      "Iteration 4900 Cost 0.4790739846208069\n",
      "train accuracy: 80.78125 %\n",
      "test accuracy: 65.0 %\n"
     ]
    }
   ],
   "source": [
    "# your code here\n",
    "\n",
    "Cost_Data,w ,b,Weight_Gradient,Bias_Gradient = model(5000,0.0005,train_set_x_flatten_std,train_set_y,test_set_x_flatten,test_set_y)\n",
    "\n",
    "# model(5000,0.0005,train_set_x_flatten_std,train_set_y,test_set_x_flatten,test_set_y)"
   ]
  },
  {
   "cell_type": "markdown",
   "metadata": {},
   "source": [
    "**Expected Output**: \n",
    "\n",
    "<table style=\"width:40%\"> \n",
    "    \n",
    "    <tr>\n",
    "        <td> **Train Accuracy**  </td> \n",
    "        <td> 91.25 % </td>\n",
    "    </tr>\n",
    "\n",
    "    <tr>\n",
    "        <td>**Test Accuracy** </td> \n",
    "        <td> 60.0 % </td>\n",
    "    </tr>\n",
    "</table> \n",
    "\n",
    "\n"
   ]
  },
  {
   "cell_type": "markdown",
   "metadata": {},
   "source": [
    "Let's also plot the cost function and the gradients."
   ]
  },
  {
   "cell_type": "code",
   "execution_count": 20,
   "metadata": {
    "scrolled": true
   },
   "outputs": [
    {
     "data": {
      "text/plain": [
       "Text(0.5, 1.0, 'Cost vs No. of Iterations')"
      ]
     },
     "execution_count": 20,
     "metadata": {},
     "output_type": "execute_result"
    },
    {
     "data": {
      "image/png": "[encoded data removed]",
      "text/plain": [
       "<Figure size 432x288 with 1 Axes>"
      ]
     },
     "metadata": {
      "needs_background": "light"
     },
     "output_type": "display_data"
    }
   ],
   "source": [
    "# Plot learning curve (with costs) for part 1\n",
    "\n",
    "# Plot learning curve (with costs) for part 2\n",
    "x_axis = [i for i in range(0,5000) if i%100 ==0]\n",
    "y_axis = [Cost_Data[i] for i in range(0, 5000) if i%100 ==0]\n",
    "plt.plot(x_axis, y_axis)\n",
    "plt.xlabel('No. of Iterations:')\n",
    "plt.ylabel('Cost Data:')\n",
    "plt.title('Cost vs No. of Iterations')"
   ]
  },
  {
   "cell_type": "markdown",
   "metadata": {},
   "source": [
    "### 5.1 - Setting parameters (part 2)\n",
    "Set the `num_iterations` to 2000 and `learning_rate` to 0.005 and run the model again. Plot the cost function."
   ]
  },
  {
   "cell_type": "code",
   "execution_count": 21,
   "metadata": {},
   "outputs": [
    {
     "name": "stdout",
     "output_type": "stream",
     "text": [
      "Iteration 0 Cost 0.6931471805599453\n",
      "Iteration 100 Cost 0.8353869463763448\n",
      "Iteration 200 Cost 0.7915909735526503\n",
      "Iteration 300 Cost 0.7532441692168795\n",
      "Iteration 400 Cost 0.7170808729265599\n",
      "Iteration 500 Cost 0.6827763204823902\n",
      "Iteration 600 Cost 0.6504555949742776\n",
      "Iteration 700 Cost 0.6200429998481184\n",
      "Iteration 800 Cost 0.5913227628131439\n",
      "Iteration 900 Cost 0.5640552175399886\n",
      "Iteration 1000 Cost 0.5380311300716969\n",
      "Iteration 1100 Cost 0.5130845212588893\n",
      "Iteration 1200 Cost 0.4890878346414368\n",
      "Iteration 1300 Cost 0.4659418903229923\n",
      "Iteration 1400 Cost 0.44356619659083607\n",
      "Iteration 1500 Cost 0.4218919514245135\n",
      "Iteration 1600 Cost 0.4008585178860202\n",
      "Iteration 1700 Cost 0.38041388121551084\n",
      "Iteration 1800 Cost 0.36052116464502465\n",
      "Iteration 1900 Cost 0.3411798556540373\n",
      "train accuracy: 91.25 %\n",
      "test accuracy: 59.375 %\n"
     ]
    }
   ],
   "source": [
    "# your code here\n",
    "\n",
    "Cost_Data1,w1 ,b1,Weight_Gradient1,Bias_Gradient1 = model(2000,0.005,train_set_x_flatten_std,train_set_y,test_set_x_flatten,test_set_y)"
   ]
  },
  {
   "cell_type": "code",
   "execution_count": 22,
   "metadata": {},
   "outputs": [
    {
     "data": {
      "text/plain": [
       "Text(0.5, 1.0, 'Cost vs No. of Iterations')"
      ]
     },
     "execution_count": 22,
     "metadata": {},
     "output_type": "execute_result"
    },
    {
     "data": {
      "image/png": "[encoded data removed]",
      "text/plain": [
       "<Figure size 432x288 with 1 Axes>"
      ]
     },
     "metadata": {
      "needs_background": "light"
     },
     "output_type": "display_data"
    }
   ],
   "source": [
    "# Plot learning curve (with costs) for part 2\n",
    "x_axis = [i for i in range(0,2000) if i%100 ==0]\n",
    "y_axis = [Cost_Data1[i] for i in range(0,2000) if i%100 ==0]\n",
    "plt.plot(x_axis, y_axis)\n",
    "plt.xlabel('No. of Iterations:')\n",
    "plt.ylabel('Cost Data:')\n",
    "plt.title('Cost vs No. of Iterations')"
   ]
  },
  {
   "cell_type": "markdown",
   "metadata": {},
   "source": [
    "### 5.3 - Analysis\n",
    "Compare the cost function plots of part_1 and part_2. Write your observation below."
   ]
  },
  {
   "cell_type": "markdown",
   "metadata": {},
   "source": [
    "#### Write Your observation here\n",
    "......"
   ]
  },
  {
   "cell_type": "code",
   "execution_count": 23,
   "metadata": {},
   "outputs": [],
   "source": [
    "\n",
    "\n",
    "# ##----------------------------Part 1 --------------------------------------\n",
    "# Learning Rate: 0.0005\n",
    "# Number of Epochs: 5000\n",
    "\n",
    "# train accuracy: 80.78125 %\n",
    "# test accuracy: 65.0 %\n",
    "    \n",
    "# Result: Smooth Cost Function Observed, as the number of iterations increases, the cost is converging towards \n",
    "# a minima. \n",
    "\n",
    "# ##---------------------------Part 2----------------------------------------\n",
    "# Learning Rate: 0.005 (10x Increase!)\n",
    "# Number of Epochs: 2000 (60% Decrease in Epoch Time)\n",
    "\n",
    "# train accuracy: 91.25 %\n",
    "# test accuracy: 59.375 %\n",
    "    \n",
    "# Result: Cost function shows divergent behavior at first, but slowly settles down towards a minima. \n",
    "    \n",
    "# Summary: As we can observe, a smaller learning rate gives a smoother loss function, with weight updates having lesser\n",
    "# magnitude, but might take more time to converge. However, if the learning rate is increased over a specific amount, \n",
    "# it shows undesirable divergent behavior. Therefore, an optimal learning rate between the two which maximises speed\n",
    "# and stability is desired. \n",
    "\n",
    "\n",
    "#MANOHAR ANUMOLU UID 115733039\n",
    "# #---------------------------------------------------------------------------"
   ]
  }
 ],
 "metadata": {
  "coursera": {
   "course_slug": "neural-networks-deep-learning",
   "graded_item_id": "XaIWT",
   "launcher_item_id": "zAgPl"
  },
  "kernelspec": {
   "display_name": "Python 3",
   "language": "python",
   "name": "python3"
  },
  "language_info": {
   "codemirror_mode": {
    "name": "ipython",
    "version": 3
   },
   "file_extension": ".py",
   "mimetype": "text/x-python",
   "name": "python",
   "nbconvert_exporter": "python",
   "pygments_lexer": "ipython3",
   "version": "3.6.8"
  },
  "widgets": {
   "state": {},
   "version": "1.1.2"
  }
 },
 "nbformat": 4,
 "nbformat_minor": 2
}
